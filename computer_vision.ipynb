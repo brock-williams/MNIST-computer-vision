{
  "nbformat": 4,
  "nbformat_minor": 0,
  "metadata": {
    "colab": {
      "name": "computer-vision.ipynb",
      "provenance": [],
      "authorship_tag": "ABX9TyMcJr2iyhXJcfSRY85ef2q3",
      "include_colab_link": true
    },
    "kernelspec": {
      "name": "python3",
      "display_name": "Python 3"
    },
    "language_info": {
      "name": "python"
    }
  },
  "cells": [
    {
      "cell_type": "markdown",
      "metadata": {
        "id": "view-in-github",
        "colab_type": "text"
      },
      "source": [
        "<a href=\"https://colab.research.google.com/github/brock-williams/MNIST-computer-vision/blob/main/computer_vision.ipynb\" target=\"_parent\"><img src=\"https://colab.research.google.com/assets/colab-badge.svg\" alt=\"Open In Colab\"/></a>"
      ]
    },
    {
      "cell_type": "code",
      "execution_count": 1,
      "metadata": {
        "id": "CKhHC-vxaXHG"
      },
      "outputs": [],
      "source": [
        "import pandas as pd\n",
        "import numpy as np\n",
        "import tensorflow as tf\n",
        "from tensorflow import keras\n",
        "from tensorflow.keras.optimizers import RMSprop\n",
        "from tensorflow.keras.preprocessing.image import ImageDataGenerator"
      ]
    },
    {
      "cell_type": "markdown",
      "source": [
        "**Load in MNIST dataset and create Digit Recognizer with Keras**"
      ],
      "metadata": {
        "id": "t7yC14fTa37I"
      }
    },
    {
      "cell_type": "code",
      "source": [
        "mnist = tf.keras.datasets.mnist\n",
        "\n",
        "(X_train_img, y_train_labels), (X_test_img, y_test_labels) = mnist.load_data()\n",
        "\n",
        "X_train_img = X_train_img.reshape(60000,28,28,1)\n",
        "X_train_img = X_train_img/255.0\n",
        "X_test_img = X_test_img.reshape(10000,28,28,1)\n",
        "X_test_img = X_test_img/255.0\n",
        "\n"
      ],
      "metadata": {
        "colab": {
          "base_uri": "https://localhost:8080/"
        },
        "id": "w1FiBn_gacPy",
        "outputId": "7fa7d6d5-da3b-40b1-a80a-1181176cc38f"
      },
      "execution_count": 2,
      "outputs": [
        {
          "output_type": "stream",
          "name": "stdout",
          "text": [
            "Downloading data from https://storage.googleapis.com/tensorflow/tf-keras-datasets/mnist.npz\n",
            "11493376/11490434 [==============================] - 0s 0us/step\n",
            "11501568/11490434 [==============================] - 0s 0us/step\n"
          ]
        }
      ]
    },
    {
      "cell_type": "code",
      "source": [
        "model = tf.keras.models.Sequential([\n",
        "    tf.keras.layers.Conv2D(64, (5, 5), activation='relu', input_shape=(28,28,1)),\n",
        "    tf.keras.layers.MaxPooling2D(3, 3),\n",
        "    tf.keras.layers.Flatten(), # Flatten into 1D array\n",
        "    tf.keras.layers.Dense(128, activation='relu'), # Dense layer w/ 128 nodes\n",
        "    tf.keras.layers.Dense(10, activation='softmax') # Output layer w/ 10 notes\n",
        "])"
      ],
      "metadata": {
        "id": "tRWEkMrhbIZ7"
      },
      "execution_count": 5,
      "outputs": []
    },
    {
      "cell_type": "code",
      "source": [
        "model.compile(optimizer='adam', loss='sparse_categorical_crossentropy', metrics=['accuracy'])\n",
        "\n",
        "history = model.fit(\n",
        "    X_train_img,\n",
        "    y_train_labels,\n",
        "    epochs=15\n",
        ")"
      ],
      "metadata": {
        "colab": {
          "base_uri": "https://localhost:8080/"
        },
        "id": "j3doKhSYbMOS",
        "outputId": "11e09d11-6e0c-4196-f850-c445e6f877fc"
      },
      "execution_count": 8,
      "outputs": [
        {
          "output_type": "stream",
          "name": "stdout",
          "text": [
            "Epoch 1/15\n",
            "1875/1875 [==============================] - 47s 25ms/step - loss: 0.1324 - accuracy: 0.9600\n",
            "Epoch 2/15\n",
            "1875/1875 [==============================] - 45s 24ms/step - loss: 0.0443 - accuracy: 0.9866\n",
            "Epoch 3/15\n",
            "1875/1875 [==============================] - 46s 24ms/step - loss: 0.0306 - accuracy: 0.9900\n",
            "Epoch 4/15\n",
            "1875/1875 [==============================] - 44s 24ms/step - loss: 0.0219 - accuracy: 0.9929\n",
            "Epoch 5/15\n",
            "1875/1875 [==============================] - 45s 24ms/step - loss: 0.0168 - accuracy: 0.9943\n",
            "Epoch 6/15\n",
            "1875/1875 [==============================] - 44s 23ms/step - loss: 0.0132 - accuracy: 0.9955\n",
            "Epoch 7/15\n",
            "1875/1875 [==============================] - 45s 24ms/step - loss: 0.0097 - accuracy: 0.9967\n",
            "Epoch 8/15\n",
            "1875/1875 [==============================] - 44s 23ms/step - loss: 0.0076 - accuracy: 0.9975\n",
            "Epoch 9/15\n",
            "1875/1875 [==============================] - 45s 24ms/step - loss: 0.0071 - accuracy: 0.9976\n",
            "Epoch 10/15\n",
            "1875/1875 [==============================] - 44s 23ms/step - loss: 0.0058 - accuracy: 0.9980\n",
            "Epoch 11/15\n",
            "1875/1875 [==============================] - 45s 24ms/step - loss: 0.0050 - accuracy: 0.9983\n",
            "Epoch 12/15\n",
            "1875/1875 [==============================] - 44s 23ms/step - loss: 0.0057 - accuracy: 0.9983\n",
            "Epoch 13/15\n",
            "1875/1875 [==============================] - 45s 24ms/step - loss: 0.0039 - accuracy: 0.9989\n",
            "Epoch 14/15\n",
            "1875/1875 [==============================] - 44s 23ms/step - loss: 0.0036 - accuracy: 0.9987\n",
            "Epoch 15/15\n",
            "1875/1875 [==============================] - 45s 24ms/step - loss: 0.0042 - accuracy: 0.9987\n"
          ]
        }
      ]
    },
    {
      "cell_type": "code",
      "source": [
        "mnist = tf.keras.datasets.mnist\n",
        "\n",
        "(X_train_img, y_train_labels), (X_test_img, y_test_labels) = mnist.load_data()\n",
        "\n",
        "X_train_img = X_train_img.reshape(60000,28,28,1)\n",
        "X_test_img = X_test_img.reshape(10000,28,28,1)\n",
        "\n",
        "train_datagen = ImageDataGenerator(rescale=1.0/255.0,\n",
        "                             rotation_range= 40,\n",
        "                             width_shift_range = 0.2,\n",
        "                             height_shift_range = 0.2,\n",
        "                             shear_range = 0.2,\n",
        "                             zoom_range = 0.2,\n",
        "                             horizontal_flip = True)\n",
        "\n",
        "validation_datagen = ImageDataGenerator(rescale = 1.0/255.0)\n"
      ],
      "metadata": {
        "id": "-2nAKIwAcNr3"
      },
      "execution_count": 13,
      "outputs": []
    },
    {
      "cell_type": "markdown",
      "source": [
        "**Decided to not use a callback the first time... not happening again**"
      ],
      "metadata": {
        "id": "TO3J3CbjgESP"
      }
    },
    {
      "cell_type": "code",
      "source": [
        "class myCallback(tf.keras.callbacks.Callback):\n",
        "  def on_epoch_end(self, epoch, log={}):\n",
        "    if log.get('accuracy') > .80:\n",
        "      print('\\nReached 80% accuracy, ending training')\n",
        "      self.model.stop_training = True\n",
        "\n",
        "callbacks = myCallback()\n",
        "\n",
        "model = tf.keras.models.Sequential([\n",
        "    tf.keras.layers.Conv2D(64, (5, 5), activation='relu', input_shape=(28,28,1)),\n",
        "    tf.keras.layers.MaxPooling2D(3, 3),\n",
        "    tf.keras.layers.Conv2D(64, (5, 5), activation='relu'),\n",
        "    tf.keras.layers.MaxPooling2D(3, 3),\n",
        "    tf.keras.layers.Flatten(),\n",
        "    tf.keras.layers.Dropout(.2),\n",
        "    tf.keras.layers.Dense(128, activation='relu'),\n",
        "    tf.keras.layers.Dense(10, activation='softmax')\n",
        "])\n",
        "\n",
        "model.compile(optimizer='adam', loss='sparse_categorical_crossentropy', metrics=['accuracy'])\n",
        "\n",
        "train_datagen = train_datagen.flow(X_train_img, y_train_labels, batch_size=64, seed=0)\n",
        "validation_datagen = validation_datagen.flow(X_test_img, y_test_labels, batch_size=64, seed=0)\n",
        "\n",
        "history = model.fit(train_datagen,\n",
        "                    validation_data=validation_datagen,\n",
        "                    epochs=30,\n",
        "                    callbacks=[callbacks],\n",
        "                    verbose=1)\n"
      ],
      "metadata": {
        "colab": {
          "base_uri": "https://localhost:8080/"
        },
        "id": "EXKrLdxjfrJd",
        "outputId": "0c2781a9-c154-4295-e939-859e05804d6c"
      },
      "execution_count": 14,
      "outputs": [
        {
          "output_type": "stream",
          "name": "stdout",
          "text": [
            "Epoch 1/30\n",
            "938/938 [==============================] - 72s 76ms/step - loss: 1.1957 - accuracy: 0.5929 - val_loss: 0.3241 - val_accuracy: 0.8937\n",
            "Epoch 2/30\n",
            "938/938 [==============================] - 71s 76ms/step - loss: 0.7208 - accuracy: 0.7616 - val_loss: 0.2378 - val_accuracy: 0.9307\n",
            "Epoch 3/30\n",
            "938/938 [==============================] - ETA: 0s - loss: 0.6092 - accuracy: 0.8013\n",
            "Reached 80% accuracy, ending training\n",
            "938/938 [==============================] - 71s 76ms/step - loss: 0.6092 - accuracy: 0.8013 - val_loss: 0.1713 - val_accuracy: 0.9442\n"
          ]
        }
      ]
    },
    {
      "cell_type": "markdown",
      "source": [
        "**This was my first time ever using TensorFlow and Keras, I have so much more to learn. Please let me know if there are things I can do better!**"
      ],
      "metadata": {
        "id": "MzWthw_Tl09v"
      }
    }
  ]
}